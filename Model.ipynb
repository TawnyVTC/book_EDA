{
 "cells": [
  {
   "cell_type": "markdown",
   "id": "fe2f1552-992d-4fca-84ac-71c846a56a41",
   "metadata": {},
   "source": [
    "# Propuesta de modelo"
   ]
  },
  {
   "cell_type": "code",
   "execution_count": 34,
   "id": "4467149a-4985-47ef-91a7-4c2e1cff224f",
   "metadata": {},
   "outputs": [],
   "source": [
    "import pandas as pd\n",
    "import numpy as np\n",
    "import matplotlib.pyplot as plt\n",
    "import seaborn as sns\n",
    "from scipy.stats import skew"
   ]
  },
  {
   "cell_type": "code",
   "execution_count": 98,
   "id": "09b14b0a-69ca-40fe-b677-d9b9a954bef7",
   "metadata": {},
   "outputs": [],
   "source": [
    "# Lectura de datos\n",
    "data_entre = pd.read_csv(r\"C:\\Users\\danie\\Dengue\\Dengue_fill\\Datos\\Dengue_entre.csv\", dtype={36: str}, low_memory=False)\n",
    "data_test = pd.read_csv(r\"C:\\Users\\danie\\Dengue\\Dengue_fill\\Datos\\Dengue_test.csv\", dtype={36: str}, low_memory=False)\n",
    "\n",
    "\n",
    "# Correcion de tipo a DateTime de variables tipo fecha\n",
    "columnas_fecha = [\"FEC_CON\", \"INI_SIN\"]\n",
    "data[columnas_fecha] = data[columnas_fecha].apply(pd.to_datetime, errors='coerce', dayfirst = True)\n",
    "\n",
    "#Seleccion de variables de estudio\"\n",
    "columnas = [\"EDAD_AJUSTADA\", \"SEXO\", \"SEMANA\", \n",
    "            \"EVENTO\", \"ESTADO_FINAL\", \n",
    "            \"PAC_HOS\", \"CON_FIN\", \"confirmados\",\n",
    "            \"FEC_CON\", \"INI_SIN\",\n",
    "           ]\n",
    "\n",
    "df_entre = data_entre[columnas]\n",
    "df_test = data_test[columnas]"
   ]
  },
  {
   "cell_type": "code",
   "execution_count": 104,
   "id": "f54af2d5-a500-4150-acfb-057b7dfa2ffd",
   "metadata": {},
   "outputs": [
    {
     "name": "stdout",
     "output_type": "stream",
     "text": [
      "<class 'pandas.core.frame.DataFrame'>\n",
      "RangeIndex: 500444 entries, 0 to 500443\n",
      "Data columns (total 11 columns):\n",
      " #   Column         Non-Null Count   Dtype         \n",
      "---  ------         --------------   -----         \n",
      " 0   EDAD_AJUSTADA  500444 non-null  float64       \n",
      " 1   SEXO           500444 non-null  object        \n",
      " 2   SEMANA         500444 non-null  int64         \n",
      " 3   EVENTO         500444 non-null  object        \n",
      " 4   ESTADO_FINAL   500444 non-null  float64       \n",
      " 5   PAC_HOS        500444 non-null  int64         \n",
      " 6   CON_FIN        500444 non-null  int64         \n",
      " 7   confirmados    500444 non-null  int64         \n",
      " 8   FEC_CON        500352 non-null  datetime64[ns]\n",
      " 9   INI_SIN        500391 non-null  datetime64[ns]\n",
      " 10  FEC_DIF        500444 non-null  float64       \n",
      "dtypes: datetime64[ns](2), float64(3), int64(4), object(2)\n",
      "memory usage: 42.0+ MB\n"
     ]
    }
   ],
   "source": [
    "# Reemplazo de NA\n",
    "mediana_est = df_entre['ESTADO_FINAL'].median()\n",
    "df_entre['ESTADO_FINAL'] = df_entre['ESTADO_FINAL'].fillna(mediana_est)\n",
    "\n",
    "mediana_eda = df_entre['EDAD_AJUSTADA'].median()\n",
    "df_entre['EDAD_AJUSTADA'] = df_entre['EDAD_AJUSTADA'].fillna(mediana_eda)\n",
    "\n",
    "df_entre.info()"
   ]
  },
  {
   "cell_type": "code",
   "execution_count": 105,
   "id": "ee5b6464-6449-4c73-9a18-38f77a6aae63",
   "metadata": {},
   "outputs": [],
   "source": [
    "def calculo_fechas (df, col_inicio = 'INI_SIN', col_fin = 'FEC_CON', umbral=60):\n",
    "    \"\"\"\n",
    "    Calcular la diferencia entre fechas\n",
    "    \"\"\"\n",
    "    df = df.copy() \n",
    "    df[col_inicio] = pd.to_datetime(df[col_inicio], errors='coerce', dayfirst=True)\n",
    "    df[col_fin] = pd.to_datetime(df[col_fin], errors='coerce', dayfirst=True)\n",
    "\n",
    "    df['FEC_DIF'] = (df[col_fin] - df[col_inicio]).dt.days\n",
    "    df['FEC_DIF'] = pd.to_numeric(df['FEC_DIF'], errors='coerce')\n",
    "    \n",
    "    df.loc[df['FEC_DIF'] > umbral, 'FEC_DIF'] = np.nan\n",
    "    \n",
    "    mediana = df['FEC_DIF'].median()\n",
    "    df['FEC_DIF'] = df['FEC_DIF'].fillna(mediana)\n",
    "\n",
    "    return df\n",
    "\n",
    "df_entre = calculo_fechas(df_entre)\n",
    "df_test = calculo_fechas(df_test)"
   ]
  },
  {
   "cell_type": "markdown",
   "id": "03514f4b-8af0-4a5e-a850-cf9f5ff59b4f",
   "metadata": {},
   "source": [
    "## Construcción del Modelo\n",
    "Modelo de regresión logística:\n",
    "\n",
    "**Variable respuesta:** confirmado\\\n",
    "**Variables predictoras:** EDAD_AJUSTADA, PAC_HOS, SEXO, EVENTO, SEMANA, CON_FIN, EVENTO_FINAL, FEC_DIF.\n",
    "\n",
    "\n",
    "Se propone la construcción de:\n",
    "- Modelo de regresión logística\n",
    "- Modelo de clasificación (Arboles de clasificación / Random Forest)\n",
    "\n",
    "La intención es clasificar casos para determinar si serán confirmados cono Dengue o no, dependiendo de las variables de estudio."
   ]
  },
  {
   "cell_type": "code",
   "execution_count": 113,
   "id": "7fda8e48-9768-43c6-8d81-580da0b9dd6b",
   "metadata": {},
   "outputs": [
    {
     "name": "stdout",
     "output_type": "stream",
     "text": [
      "🔹 Matriz de confusión:\n",
      "[[140216    428]\n",
      " [    35 306157]]\n",
      "\n",
      "🔹 Reporte de clasificación:\n",
      "              precision    recall  f1-score   support\n",
      "\n",
      "           0       1.00      1.00      1.00    140644\n",
      "           1       1.00      1.00      1.00    306192\n",
      "\n",
      "    accuracy                           1.00    446836\n",
      "   macro avg       1.00      1.00      1.00    446836\n",
      "weighted avg       1.00      1.00      1.00    446836\n",
      "\n",
      "\n",
      "🔹 Precisión del modelo: 0.9990\n"
     ]
    }
   ],
   "source": [
    "#Primer intento del modelo\n",
    "\n",
    "from sklearn.model_selection import train_test_split\n",
    "from sklearn.preprocessing import StandardScaler\n",
    "from sklearn.linear_model import LogisticRegression\n",
    "from sklearn.metrics import classification_report, confusion_matrix, accuracy_score\n",
    "\n",
    "# 2. Definir variables predictoras (X) y variable objetivo (y)\n",
    "columnas_predictoras = [\"EDAD_AJUSTADA\", \"SEXO\", \"SEMANA\", \"EVENTO\", \n",
    "                        \"PAC_HOS\", \"CON_FIN\", \"FEC_DIF\", \"ESTADO_FINAL\"]\n",
    "X_train = df_entre[columnas_predictoras]\n",
    "X_test = df_test[columnas_predictoras]\n",
    "\n",
    "# Variable objetivo (suponiendo que \"ESTADO_FINAL\" es el resultado binario)\n",
    "y_train = df_entre[\"confirmados\"]\n",
    "y_test = df_test[\"confirmados\"]\n",
    "\n",
    "# Convertir variables categóricas en dummies\n",
    "X_train = pd.get_dummies(X_train, drop_first=True)\n",
    "X_test = pd.get_dummies(X_test, drop_first=True)\n",
    "\n",
    "# Normalizar variables numéricas\n",
    "scaler = StandardScaler()\n",
    "X_train_scaled = scaler.fit_transform(X_train)\n",
    "X_test_scaled = scaler.transform(X_test)\n",
    "\n",
    "# Entrenar el modelo logístico\n",
    "modelo = LogisticRegression(max_iter=500, solver=\"liblinear\")  \n",
    "modelo.fit(X_train_scaled, y_train)\n",
    "\n",
    "# Predicción\n",
    "y_pred = modelo.predict(X_test_scaled)\n",
    "\n",
    "# Evaluación del modelo\n",
    "print(\"🔹 Matriz de confusión:\")\n",
    "print(confusion_matrix(y_test, y_pred))\n",
    "print(\"\\n🔹 Reporte de clasificación:\")\n",
    "print(classification_report(y_test, y_pred))\n",
    "print(f\"\\n🔹 Precisión del modelo: {accuracy_score(y_test, y_pred):.4f}\")\n",
    "\n"
   ]
  }
 ],
 "metadata": {
  "kernelspec": {
   "display_name": "Python 3 (ipykernel)",
   "language": "python",
   "name": "python3"
  },
  "language_info": {
   "codemirror_mode": {
    "name": "ipython",
    "version": 3
   },
   "file_extension": ".py",
   "mimetype": "text/x-python",
   "name": "python",
   "nbconvert_exporter": "python",
   "pygments_lexer": "ipython3",
   "version": "3.12.7"
  }
 },
 "nbformat": 4,
 "nbformat_minor": 5
}
